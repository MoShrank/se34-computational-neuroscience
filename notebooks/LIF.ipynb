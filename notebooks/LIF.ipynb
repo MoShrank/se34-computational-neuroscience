{
 "cells": [
  {
   "cell_type": "code",
   "execution_count": 1,
   "id": "3b637875",
   "metadata": {},
   "outputs": [
    {
     "data": {
      "application/javascript": [
       "\n",
       "            setTimeout(function() {\n",
       "                var nbb_cell_id = 1;\n",
       "                var nbb_unformatted_code = \"%load_ext nb_black\";\n",
       "                var nbb_formatted_code = \"%load_ext nb_black\";\n",
       "                var nbb_cells = Jupyter.notebook.get_cells();\n",
       "                for (var i = 0; i < nbb_cells.length; ++i) {\n",
       "                    if (nbb_cells[i].input_prompt_number == nbb_cell_id) {\n",
       "                        if (nbb_cells[i].get_text() == nbb_unformatted_code) {\n",
       "                             nbb_cells[i].set_text(nbb_formatted_code);\n",
       "                        }\n",
       "                        break;\n",
       "                    }\n",
       "                }\n",
       "            }, 500);\n",
       "            "
      ],
      "text/plain": [
       "<IPython.core.display.Javascript object>"
      ]
     },
     "metadata": {},
     "output_type": "display_data"
    }
   ],
   "source": [
    "%load_ext nb_black"
   ]
  },
  {
   "cell_type": "code",
   "execution_count": 2,
   "id": "e0d6aa4b",
   "metadata": {},
   "outputs": [
    {
     "data": {
      "application/javascript": [
       "\n",
       "            setTimeout(function() {\n",
       "                var nbb_cell_id = 2;\n",
       "                var nbb_unformatted_code = \"%load_ext autoreload\\n%autoreload 2\";\n",
       "                var nbb_formatted_code = \"%load_ext autoreload\\n%autoreload 2\";\n",
       "                var nbb_cells = Jupyter.notebook.get_cells();\n",
       "                for (var i = 0; i < nbb_cells.length; ++i) {\n",
       "                    if (nbb_cells[i].input_prompt_number == nbb_cell_id) {\n",
       "                        if (nbb_cells[i].get_text() == nbb_unformatted_code) {\n",
       "                             nbb_cells[i].set_text(nbb_formatted_code);\n",
       "                        }\n",
       "                        break;\n",
       "                    }\n",
       "                }\n",
       "            }, 500);\n",
       "            "
      ],
      "text/plain": [
       "<IPython.core.display.Javascript object>"
      ]
     },
     "metadata": {},
     "output_type": "display_data"
    }
   ],
   "source": [
    "%load_ext autoreload\n",
    "%autoreload 2"
   ]
  },
  {
   "cell_type": "code",
   "execution_count": 3,
   "id": "50fca59a",
   "metadata": {},
   "outputs": [
    {
     "data": {
      "application/javascript": [
       "\n",
       "            setTimeout(function() {\n",
       "                var nbb_cell_id = 3;\n",
       "                var nbb_unformatted_code = \"import sys\\n\\nsys.path.append(\\\"..\\\")\";\n",
       "                var nbb_formatted_code = \"import sys\\n\\nsys.path.append(\\\"..\\\")\";\n",
       "                var nbb_cells = Jupyter.notebook.get_cells();\n",
       "                for (var i = 0; i < nbb_cells.length; ++i) {\n",
       "                    if (nbb_cells[i].input_prompt_number == nbb_cell_id) {\n",
       "                        if (nbb_cells[i].get_text() == nbb_unformatted_code) {\n",
       "                             nbb_cells[i].set_text(nbb_formatted_code);\n",
       "                        }\n",
       "                        break;\n",
       "                    }\n",
       "                }\n",
       "            }, 500);\n",
       "            "
      ],
      "text/plain": [
       "<IPython.core.display.Javascript object>"
      ]
     },
     "metadata": {},
     "output_type": "display_data"
    }
   ],
   "source": [
    "import sys\n",
    "\n",
    "sys.path.append(\"..\")"
   ]
  },
  {
   "cell_type": "code",
   "execution_count": 4,
   "id": "df10691f",
   "metadata": {},
   "outputs": [
    {
     "data": {
      "application/javascript": [
       "\n",
       "            setTimeout(function() {\n",
       "                var nbb_cell_id = 4;\n",
       "                var nbb_unformatted_code = \"# @title Figure Settings\\nimport ipywidgets as widgets  # interactive display\\n\\n%config InlineBackend.figure_format = 'retina'\";\n",
       "                var nbb_formatted_code = \"# @title Figure Settings\\nimport ipywidgets as widgets  # interactive display\\n\\n%config InlineBackend.figure_format = 'retina'\";\n",
       "                var nbb_cells = Jupyter.notebook.get_cells();\n",
       "                for (var i = 0; i < nbb_cells.length; ++i) {\n",
       "                    if (nbb_cells[i].input_prompt_number == nbb_cell_id) {\n",
       "                        if (nbb_cells[i].get_text() == nbb_unformatted_code) {\n",
       "                             nbb_cells[i].set_text(nbb_formatted_code);\n",
       "                        }\n",
       "                        break;\n",
       "                    }\n",
       "                }\n",
       "            }, 500);\n",
       "            "
      ],
      "text/plain": [
       "<IPython.core.display.Javascript object>"
      ]
     },
     "metadata": {},
     "output_type": "display_data"
    }
   ],
   "source": [
    "# @title Figure Settings\n",
    "import ipywidgets as widgets  # interactive display\n",
    "\n",
    "%config InlineBackend.figure_format = 'retina'"
   ]
  },
  {
   "cell_type": "code",
   "execution_count": 6,
   "id": "deeac6e5",
   "metadata": {},
   "outputs": [
    {
     "data": {
      "application/javascript": [
       "\n",
       "            setTimeout(function() {\n",
       "                var nbb_cell_id = 6;\n",
       "                var nbb_unformatted_code = \"import numpy as np\\nimport matplotlib.pyplot as plt\\nfrom models import LIF, NonLIF, LIF_Ref_Period, LIF_Spike_Rate_Adaption\\nfrom util.spike_trains import get_poisson_spike_train\";\n",
       "                var nbb_formatted_code = \"import numpy as np\\nimport matplotlib.pyplot as plt\\nfrom models import LIF, NonLIF, LIF_Ref_Period, LIF_Spike_Rate_Adaption\\nfrom util.spike_trains import get_poisson_spike_train\";\n",
       "                var nbb_cells = Jupyter.notebook.get_cells();\n",
       "                for (var i = 0; i < nbb_cells.length; ++i) {\n",
       "                    if (nbb_cells[i].input_prompt_number == nbb_cell_id) {\n",
       "                        if (nbb_cells[i].get_text() == nbb_unformatted_code) {\n",
       "                             nbb_cells[i].set_text(nbb_formatted_code);\n",
       "                        }\n",
       "                        break;\n",
       "                    }\n",
       "                }\n",
       "            }, 500);\n",
       "            "
      ],
      "text/plain": [
       "<IPython.core.display.Javascript object>"
      ]
     },
     "metadata": {},
     "output_type": "display_data"
    }
   ],
   "source": [
    "import numpy as np\n",
    "import matplotlib.pyplot as plt\n",
    "from models import LIF, NonLIF, LIF_Ref_Period, LIF_Spike_Rate_Adaption\n",
    "from util.spike_trains import get_poisson_spike_train"
   ]
  },
  {
   "cell_type": "code",
   "execution_count": 7,
   "id": "bbeb3060",
   "metadata": {},
   "outputs": [
    {
     "data": {
      "application/javascript": [
       "\n",
       "            setTimeout(function() {\n",
       "                var nbb_cell_id = 7;\n",
       "                var nbb_unformatted_code = \"plt.rcParams[\\\"figure.figsize\\\"] = (12, 6)\\nfig_dir = \\\"../figures\\\"\";\n",
       "                var nbb_formatted_code = \"plt.rcParams[\\\"figure.figsize\\\"] = (12, 6)\\nfig_dir = \\\"../figures\\\"\";\n",
       "                var nbb_cells = Jupyter.notebook.get_cells();\n",
       "                for (var i = 0; i < nbb_cells.length; ++i) {\n",
       "                    if (nbb_cells[i].input_prompt_number == nbb_cell_id) {\n",
       "                        if (nbb_cells[i].get_text() == nbb_unformatted_code) {\n",
       "                             nbb_cells[i].set_text(nbb_formatted_code);\n",
       "                        }\n",
       "                        break;\n",
       "                    }\n",
       "                }\n",
       "            }, 500);\n",
       "            "
      ],
      "text/plain": [
       "<IPython.core.display.Javascript object>"
      ]
     },
     "metadata": {},
     "output_type": "display_data"
    }
   ],
   "source": [
    "plt.rcParams[\"figure.figsize\"] = (12, 6)\n",
    "fig_dir = \"../figures\""
   ]
  },
  {
   "cell_type": "code",
   "execution_count": 32,
   "id": "84edbd1b",
   "metadata": {},
   "outputs": [
    {
     "data": {
      "application/javascript": [
       "\n",
       "            setTimeout(function() {\n",
       "                var nbb_cell_id = 32;\n",
       "                var nbb_unformatted_code = \"dt = 0.1\\nsize = 5000\\nspike_train = np.zeros(size - 1)\\nspike_train[1000:2000:2] = 40\\nspike_train[2500:2800:2] = 40\\nspike_train[3000:4000:2] = 40\";\n",
       "                var nbb_formatted_code = \"dt = 0.1\\nsize = 5000\\nspike_train = np.zeros(size - 1)\\nspike_train[1000:2000:2] = 40\\nspike_train[2500:2800:2] = 40\\nspike_train[3000:4000:2] = 40\";\n",
       "                var nbb_cells = Jupyter.notebook.get_cells();\n",
       "                for (var i = 0; i < nbb_cells.length; ++i) {\n",
       "                    if (nbb_cells[i].input_prompt_number == nbb_cell_id) {\n",
       "                        if (nbb_cells[i].get_text() == nbb_unformatted_code) {\n",
       "                             nbb_cells[i].set_text(nbb_formatted_code);\n",
       "                        }\n",
       "                        break;\n",
       "                    }\n",
       "                }\n",
       "            }, 500);\n",
       "            "
      ],
      "text/plain": [
       "<IPython.core.display.Javascript object>"
      ]
     },
     "metadata": {},
     "output_type": "display_data"
    }
   ],
   "source": [
    "dt = 0.1\n",
    "size = 5000\n",
    "spike_train = np.zeros(size - 1)\n",
    "spike_train[1000:2000:2] = 40\n",
    "spike_train[2500:2800:2] = 40\n",
    "spike_train[3000:4000:2] = 40"
   ]
  },
  {
   "cell_type": "code",
   "execution_count": 33,
   "id": "9af77ad1",
   "metadata": {},
   "outputs": [
    {
     "data": {
      "application/javascript": [
       "\n",
       "            setTimeout(function() {\n",
       "                var nbb_cell_id = 33;\n",
       "                var nbb_unformatted_code = \"poisson_spike_trains = get_poisson_spike_train(500, size - 1, 1, dt)\\np_spike_train = poisson_spike_trains[:, 0]\\np_spike_train *= 5\";\n",
       "                var nbb_formatted_code = \"poisson_spike_trains = get_poisson_spike_train(500, size - 1, 1, dt)\\np_spike_train = poisson_spike_trains[:, 0]\\np_spike_train *= 5\";\n",
       "                var nbb_cells = Jupyter.notebook.get_cells();\n",
       "                for (var i = 0; i < nbb_cells.length; ++i) {\n",
       "                    if (nbb_cells[i].input_prompt_number == nbb_cell_id) {\n",
       "                        if (nbb_cells[i].get_text() == nbb_unformatted_code) {\n",
       "                             nbb_cells[i].set_text(nbb_formatted_code);\n",
       "                        }\n",
       "                        break;\n",
       "                    }\n",
       "                }\n",
       "            }, 500);\n",
       "            "
      ],
      "text/plain": [
       "<IPython.core.display.Javascript object>"
      ]
     },
     "metadata": {},
     "output_type": "display_data"
    }
   ],
   "source": [
    "poisson_spike_trains = get_poisson_spike_train(500, size - 1, 1, dt)\n",
    "p_spike_train = poisson_spike_trains[:, 0]\n",
    "p_spike_train *= 5"
   ]
  },
  {
   "cell_type": "code",
   "execution_count": 35,
   "id": "e0482585",
   "metadata": {},
   "outputs": [
    {
     "data": {
      "image/png": "[encoded data removed]",
      "text/plain": [
       "<Figure size 864x432 with 1 Axes>"
      ]
     },
     "metadata": {
      "image/png": {
       "height": 374,
       "width": 862
      },
      "needs_background": "light"
     },
     "output_type": "display_data"
    },
    {
     "data": {
      "application/javascript": [
       "\n",
       "            setTimeout(function() {\n",
       "                var nbb_cell_id = 35;\n",
       "                var nbb_unformatted_code = \"non_lif = NonLIF(dt=dt, R=20)\\nnon_lif.insert_spike_train(spike_train)\\nnon_lif.plot(size)\\nplt.savefig(\\n    f\\\"{fig_dir}/non_lif.png\\\",\\n    format=\\\"png\\\",\\n    bbox_inches=\\\"tight\\\",\\n    dpi=150,\\n    facecolor=(1, 1, 1),\\n)\";\n",
       "                var nbb_formatted_code = \"non_lif = NonLIF(dt=dt, R=20)\\nnon_lif.insert_spike_train(spike_train)\\nnon_lif.plot(size)\\nplt.savefig(\\n    f\\\"{fig_dir}/non_lif.png\\\",\\n    format=\\\"png\\\",\\n    bbox_inches=\\\"tight\\\",\\n    dpi=150,\\n    facecolor=(1, 1, 1),\\n)\";\n",
       "                var nbb_cells = Jupyter.notebook.get_cells();\n",
       "                for (var i = 0; i < nbb_cells.length; ++i) {\n",
       "                    if (nbb_cells[i].input_prompt_number == nbb_cell_id) {\n",
       "                        if (nbb_cells[i].get_text() == nbb_unformatted_code) {\n",
       "                             nbb_cells[i].set_text(nbb_formatted_code);\n",
       "                        }\n",
       "                        break;\n",
       "                    }\n",
       "                }\n",
       "            }, 500);\n",
       "            "
      ],
      "text/plain": [
       "<IPython.core.display.Javascript object>"
      ]
     },
     "metadata": {},
     "output_type": "display_data"
    }
   ],
   "source": [
    "non_lif = NonLIF(dt=dt, R=20)\n",
    "non_lif.insert_spike_train(spike_train)\n",
    "non_lif.plot(size)\n",
    "plt.savefig(\n",
    "    f\"{fig_dir}/non_lif.png\",\n",
    "    format=\"png\",\n",
    "    bbox_inches=\"tight\",\n",
    "    dpi=150,\n",
    "    facecolor=(1, 1, 1),\n",
    ")"
   ]
  },
  {
   "cell_type": "code",
   "execution_count": null,
   "id": "bdbb5da7",
   "metadata": {},
   "outputs": [],
   "source": [
    "lif = LIF(dt=dt, R=2)\n",
    "lif.insert_spike_train(spike_train)\n",
    "lif.plot(size)\n",
    "plt.savefig(\n",
    "    f\"{fig_dir}/lif.png\",\n",
    "    format=\"png\",\n",
    "    bbox_inches=\"tight\",\n",
    "    dpi=150,\n",
    "    facecolor=(1, 1, 1),\n",
    ")"
   ]
  },
  {
   "cell_type": "code",
   "execution_count": null,
   "id": "2c5533fc",
   "metadata": {},
   "outputs": [],
   "source": [
    "lif_ref_per = LIF_Ref_Period(t_ref=5, dt=dt, R=2)\n",
    "lif_ref_per.insert_spike_train(spike_train)\n",
    "lif_ref_per.plot(size)\n",
    "plt.savefig(\n",
    "    f\"{fig_dir}/lif_ref_period.png\",\n",
    "    format=\"png\",\n",
    "    bbox_inches=\"tight\",\n",
    "    dpi=150,\n",
    "    facecolor=(1, 1, 1),\n",
    ")"
   ]
  },
  {
   "cell_type": "code",
   "execution_count": null,
   "id": "b4a3974b",
   "metadata": {},
   "outputs": [],
   "source": [
    "lif_sra = LIF_Spike_Rate_Adaption(\n",
    "    dt=dt, g_delta=0.06, tau_g=100, E_k=-70, tau_m=30, R=2\n",
    ")\n",
    "lif_sra.insert_spike_train(spike_train)\n",
    "\n",
    "lif_sra.plot(size)\n",
    "plt.savefig(\n",
    "    f\"{fig_dir}/lif_sra.png\",\n",
    "    format=\"png\",\n",
    "    bbox_inches=\"tight\",\n",
    "    dpi=150,\n",
    "    facecolor=(1, 1, 1),\n",
    ")"
   ]
  },
  {
   "cell_type": "code",
   "execution_count": null,
   "id": "7185b150",
   "metadata": {},
   "outputs": [],
   "source": [
    "lif_sra.plot_spikes(size)\n",
    "plt.savefig(\n",
    "    f\"{fig_dir}/lif_sra_spike_times.png\",\n",
    "    format=\"png\",\n",
    "    bbox_inches=\"tight\",\n",
    "    dpi=150,\n",
    "    facecolor=(1, 1, 1),\n",
    ")"
   ]
  },
  {
   "cell_type": "code",
   "execution_count": null,
   "id": "f5930939",
   "metadata": {},
   "outputs": [],
   "source": [
    "# might not work as expected\n",
    "@widgets.interact(\n",
    "    g_delta=widgets.FloatSlider(0.06, min=0.001, max=1.0, step=0.01),\n",
    "    tau_g=widgets.FloatSlider(100.0, min=5, max=200, step=5),\n",
    "    tau_m=widgets.FloatSlider(100.0, min=5, max=200, step=5),\n",
    ")\n",
    "def lif_rsa_tau_g(g_delta=0.06, tau_g=100.0, tau_m=10.0):\n",
    "    lif_sra = LIF_Spike_Rate_Adaption(dt=dt, g_delta=g_delta, tau_g=tau_g, tau_m=tau_m)\n",
    "    lif_sra.insert_spike_train(spike_train)\n",
    "    lif_sra.plot(size)\n",
    "    lif_sra.plot_spikes(size)"
   ]
  },
  {
   "cell_type": "code",
   "execution_count": null,
   "id": "9eeb2c0b",
   "metadata": {},
   "outputs": [],
   "source": []
  }
 ],
 "metadata": {
  "kernelspec": {
   "display_name": "Python 3 (ipykernel)",
   "language": "python",
   "name": "python3"
  },
  "language_info": {
   "codemirror_mode": {
    "name": "ipython",
    "version": 3
   },
   "file_extension": ".py",
   "mimetype": "text/x-python",
   "name": "python",
   "nbconvert_exporter": "python",
   "pygments_lexer": "ipython3",
   "version": "3.9.5"
  }
 },
 "nbformat": 4,
 "nbformat_minor": 5
}
